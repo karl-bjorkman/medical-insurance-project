{
 "cells": [
  {
   "cell_type": "markdown",
   "metadata": {},
   "source": [
    "# U.S. Medical Insurance Costs"
   ]
  },
  {
   "cell_type": "code",
   "execution_count": 12,
   "metadata": {},
   "outputs": [],
   "source": [
    "import csv\n",
    "\n",
    "ages = []\n",
    "sex = []\n",
    "bmi = []\n",
    "children = []\n",
    "smoker = []\n",
    "regions = []\n",
    "charges = []\n",
    "\n",
    "with open('insurance.csv', newline='') as csvfile:\n",
    "    med_insurance = csv.DictReader(csvfile)\n",
    "    for record in med_insurance:\n",
    "        ages.append(record['age'])\n",
    "        sex.append(record['sex'])\n",
    "        bmi.append(record['bmi'])\n",
    "        children.append(record['children'])\n",
    "        smoker.append(record['smoker'])\n",
    "        regions.append(record['region'])\n",
    "        charges.append(record['charges'])"
   ]
  },
  {
   "cell_type": "code",
   "execution_count": 18,
   "metadata": {},
   "outputs": [
    {
     "data": {
      "text/plain": [
       "'Average patient age is 39 years old.'"
      ]
     },
     "execution_count": 18,
     "metadata": {},
     "output_type": "execute_result"
    }
   ],
   "source": [
    "def avg_age(age_lst):\n",
    "    total_age = 0\n",
    "    for age in age_lst:\n",
    "        total_age += int(age)\n",
    "        \n",
    "    avg_patient_age = round(total_age / len(age_lst))\n",
    "    \n",
    "    return \"Average patient age is {age} years old.\".format(age=avg_patient_age)\n",
    "\n",
    "avg_age(ages)"
   ]
  },
  {
   "cell_type": "code",
   "execution_count": 23,
   "metadata": {},
   "outputs": [
    {
     "data": {
      "text/plain": [
       "'Average parent age is 40 years old.'"
      ]
     },
     "execution_count": 23,
     "metadata": {},
     "output_type": "execute_result"
    }
   ],
   "source": [
    "def avg_age_parent(age_lst, children_lst):\n",
    "    age_children_comp = list(zip(age_lst, children_lst))\n",
    "    total_age = 0\n",
    "    total_parents = 0\n",
    "    for record in age_children_comp:\n",
    "        if int(record[1]) > 0:\n",
    "            total_age += int(record[0])\n",
    "            total_parents += 1\n",
    "            \n",
    "    avg_parent_age = round(total_age / total_parents)\n",
    "        \n",
    "    return \"Average parent age is {age} years old.\".format(age=avg_parent_age)\n",
    "    \n",
    "avg_age_parent(ages, children)"
   ]
  },
  {
   "cell_type": "code",
   "execution_count": 27,
   "metadata": {},
   "outputs": [
    {
     "data": {
      "text/plain": [
       "'Out of 1338 patients, 764 are parents.'"
      ]
     },
     "execution_count": 27,
     "metadata": {},
     "output_type": "execute_result"
    }
   ],
   "source": [
    "def parent_count(children_lst):\n",
    "    parents = 0\n",
    "    for i in children_lst:\n",
    "        if int(i) > 0:\n",
    "            parents += 1\n",
    "    \n",
    "    return \"Out of {all_patients} patients, {parents} are parents.\".format(\n",
    "        all_patients=len(children_lst), parents=parents)\n",
    "\n",
    "parent_count(children)"
   ]
  },
  {
   "cell_type": "code",
   "execution_count": 30,
   "metadata": {},
   "outputs": [
    {
     "data": {
      "text/plain": [
       "'Avg Nonsmoker Charges: $8434.27 | Avg Smoker Charges: $32050.23'"
      ]
     },
     "execution_count": 30,
     "metadata": {},
     "output_type": "execute_result"
    }
   ],
   "source": [
    "def smoking_cost(smoker_lst, charges_lst):\n",
    "    smoker_charges_comp = list(zip(smoker_lst, charges_lst))\n",
    "    smoker_charges_total = 0\n",
    "    smoker_total = 0\n",
    "    nonsmoker_charges_total = 0\n",
    "    nonsmoker_total = 0\n",
    "    for record in smoker_charges_comp:\n",
    "        if record[0] == 'yes':\n",
    "            smoker_charges_total += float(record[1])\n",
    "            smoker_total += 1\n",
    "        else:\n",
    "            nonsmoker_charges_total += float(record[1])\n",
    "            nonsmoker_total += 1\n",
    "            \n",
    "    avg_smoker_cost = round(smoker_charges_total / smoker_total, 2)\n",
    "    avg_nonsmoker_cost = round(nonsmoker_charges_total / nonsmoker_total, 2)\n",
    "    \n",
    "    return \"Avg Nonsmoker Charges: ${nonsmoker_charges} | Avg Smoker Charges: ${smoker_charges}\".format(nonsmoker_charges=avg_nonsmoker_cost, smoker_charges=avg_smoker_cost)\n",
    "\n",
    "smoking_cost(smoker, charges)"
   ]
  },
  {
   "cell_type": "code",
   "execution_count": 32,
   "metadata": {},
   "outputs": [
    {
     "data": {
      "text/plain": [
       "'Southwest: 325, Southeast: 364, Northwest: 325, Northeast: 324'"
      ]
     },
     "execution_count": 32,
     "metadata": {},
     "output_type": "execute_result"
    }
   ],
   "source": [
    "def loc_counter(region_lst):\n",
    "    loc_lst = []\n",
    "    sw_count = 0\n",
    "    se_count = 0\n",
    "    nw_count = 0\n",
    "    ne_count = 0\n",
    "    # Not returned, but finds all location names from csv file\n",
    "    for region in region_lst:\n",
    "        if region not in loc_lst:\n",
    "            loc_lst.append(region)\n",
    "    for region in region_lst:\n",
    "        if region == 'southwest':\n",
    "            sw_count += 1\n",
    "        elif region == 'southeast':\n",
    "            se_count += 1\n",
    "        elif region == 'northwest':\n",
    "            nw_count += 1\n",
    "        elif region == 'northeast':\n",
    "            ne_count += 1\n",
    "        else:\n",
    "            return None\n",
    "            \n",
    "    return \"Southwest: {sw}, Southeast: {se}, Northwest: {nw}, Northeast: {ne}\".format(\n",
    "    sw=sw_count, se=se_count, nw=nw_count, ne=ne_count)\n",
    "    \n",
    "loc_counter(regions)"
   ]
  },
  {
   "cell_type": "code",
   "execution_count": null,
   "metadata": {},
   "outputs": [],
   "source": []
  }
 ],
 "metadata": {
  "kernelspec": {
   "display_name": "Python 3 (ipykernel)",
   "language": "python",
   "name": "python3"
  },
  "language_info": {
   "codemirror_mode": {
    "name": "ipython",
    "version": 3
   },
   "file_extension": ".py",
   "mimetype": "text/x-python",
   "name": "python",
   "nbconvert_exporter": "python",
   "pygments_lexer": "ipython3",
   "version": "3.10.6"
  },
  "vscode": {
   "interpreter": {
    "hash": "aee8b7b246df8f9039afb4144a1f6fd8d2ca17a180786b69acc140d282b71a49"
   }
  }
 },
 "nbformat": 4,
 "nbformat_minor": 4
}
